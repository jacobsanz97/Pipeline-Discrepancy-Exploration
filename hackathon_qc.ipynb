{
 "cells": [
  {
   "cell_type": "markdown",
   "metadata": {},
   "source": [
    "# Import libraries"
   ]
  },
  {
   "cell_type": "code",
   "execution_count": 9,
   "metadata": {},
   "outputs": [],
   "source": [
    "import json\n",
    "import os\n",
    "import pprint"
   ]
  },
  {
   "cell_type": "markdown",
   "metadata": {},
   "source": [
    "# Example of data format for a single scan's MRIQC output"
   ]
  },
  {
   "cell_type": "code",
   "execution_count": 11,
   "metadata": {},
   "outputs": [
    {
     "name": "stdout",
     "output_type": "stream",
     "text": [
      "{'cjv': 0.4483252215563519,\n",
      " 'cnr': 3.03588107158742,\n",
      " 'efc': 0.5736794793449945,\n",
      " 'fber': 3486.3879754136465,\n",
      " 'fwhm_avg': 3.680683333333333,\n",
      " 'fwhm_x': 3.75564,\n",
      " 'fwhm_y': 3.75121,\n",
      " 'fwhm_z': 3.5352,\n",
      " 'icvs_csf': 0.23896913950456913,\n",
      " 'icvs_gm': 0.41155280110393555,\n",
      " 'icvs_wm': 0.34947805939149534,\n",
      " 'inu_med': 0.7374693751335144,\n",
      " 'inu_range': 0.2513059496879577,\n",
      " 'qi_1': 5.195251898058409e-05,\n",
      " 'qi_2': 0.004795732602123701,\n",
      " 'rpve_csf': 26.88707975840483,\n",
      " 'rpve_gm': 15.121849315940365,\n",
      " 'rpve_wm': 20.11346722779336,\n",
      " 'size_x': 176,\n",
      " 'size_y': 240,\n",
      " 'size_z': 256,\n",
      " 'snr_csf': 1.833606415582332,\n",
      " 'snr_gm': 8.892356395367713,\n",
      " 'snr_total': 8.892254479555502,\n",
      " 'snr_wm': 15.95080062771646,\n",
      " 'snrd_csf': 6.761179797230499,\n",
      " 'snrd_gm': 21.856357429069693,\n",
      " 'snrd_total': 20.089224774479476,\n",
      " 'snrd_wm': 31.65013709713823,\n",
      " 'spacing_x': 1.0,\n",
      " 'spacing_y': 1.0,\n",
      " 'spacing_z': 1.0,\n",
      " 'summary_bg_k': 2392.801813776368,\n",
      " 'summary_bg_mad': 0.0,\n",
      " 'summary_bg_mean': 11.696939497924124,\n",
      " 'summary_bg_median': 0.0,\n",
      " 'summary_bg_n': 2576976.0,\n",
      " 'summary_bg_p05': 0.0,\n",
      " 'summary_bg_p95': 42.14285858720541,\n",
      " 'summary_bg_stdv': 20.69932336920306,\n",
      " 'summary_csf_k': 0.19496345923771852,\n",
      " 'summary_csf_mad': 119.13768235593801,\n",
      " 'summary_csf_mean': 223.96102497217007,\n",
      " 'summary_csf_median': 213.6224563010037,\n",
      " 'summary_csf_n': 37252.0,\n",
      " 'summary_csf_p05': 56.98979787155986,\n",
      " 'summary_csf_p95': 432.3469535931945,\n",
      " 'summary_csf_stdv': 116.50242233273609,\n",
      " 'summary_gm_k': -0.044088811459014554,\n",
      " 'summary_gm_mad': 77.3827613016664,\n",
      " 'summary_gm_mean': 690.2296573527844,\n",
      " 'summary_gm_median': 690.5612481571734,\n",
      " 'summary_gm_n': 14626.0,\n",
      " 'summary_gm_p05': 560.5229783942923,\n",
      " 'summary_gm_p95': 817.3979871980846,\n",
      " 'summary_gm_stdv': 77.65519168754628,\n",
      " 'summary_wm_k': 0.19359502479603874,\n",
      " 'summary_wm_mad': 61.346451041692525,\n",
      " 'summary_wm_mean': 1000.8657258196528,\n",
      " 'summary_wm_median': 1000.0000342726707,\n",
      " 'summary_wm_n': 150495.0,\n",
      " 'summary_wm_p05': 899.2857451066375,\n",
      " 'summary_wm_p95': 1105.6122827902436,\n",
      " 'summary_wm_stdv': 62.69257169197561,\n",
      " 'tpm_overlap_csf': 0.13900224894712718,\n",
      " 'tpm_overlap_gm': 0.4555361117334364,\n",
      " 'tpm_overlap_wm': 0.5223013703636057,\n",
      " 'wm2max': 0.3517146087174978}\n"
     ]
    }
   ],
   "source": [
    "filepath = \"./mriqc_output/sub-2332918_ses-NAPFU48_run-001_T1w.json\"\n",
    "\n",
    "with open(filepath, \"r+\") as file:\n",
    "    data = json.load(file)\n",
    "    del data['bids_meta']\n",
    "    del data['provenance']\n",
    "    pprint.pprint(data)"
   ]
  },
  {
   "cell_type": "markdown",
   "metadata": {},
   "source": [
    "# Function to find discrepancies in NeuroCI's output file"
   ]
  },
  {
   "cell_type": "code",
   "execution_count": 24,
   "metadata": {},
   "outputs": [
    {
     "data": {
      "text/plain": [
       "1799.0"
      ]
     },
     "execution_count": 24,
     "metadata": {},
     "output_type": "execute_result"
    }
   ],
   "source": [
    "NeuroCI_results_file = \"Prevent-AD.json\"\n",
    "\n",
    "#Find a discrepancy between FSL and FreeSurfer hippocampal volumes for a given scan\n",
    "def find_discrepancy(json_results, filename):\n",
    "    with open(json_results, \"r+\") as file:\n",
    "        data = json.load(file)\n",
    "        FSL = float(data[filename]['FSL']['Result']['result'])\n",
    "        FreeSurfer = float(data[filename]['FreeSurfer']['Result']['result'])\n",
    "        return(abs(FSL-FreeSurfer))\n",
    "\n",
    "#Example using the fn\n",
    "find_discrepancy(NeuroCI_results_file, \"sub-9748277_ses-NAPFU48_run-002_T1w.nii.gz\")"
   ]
  },
  {
   "cell_type": "markdown",
   "metadata": {},
   "source": [
    "# Making a list of all such dictionaries available in the 'mriqc_output' directory"
   ]
  },
  {
   "cell_type": "code",
   "execution_count": 31,
   "metadata": {},
   "outputs": [
    {
     "name": "stdout",
     "output_type": "stream",
     "text": [
      "{'cjv': 0.4483252215563519,\n",
      " 'cnr': 3.03588107158742,\n",
      " 'discrepancy': 394.0999999999999,\n",
      " 'efc': 0.5736794793449945,\n",
      " 'fber': 3486.3879754136465,\n",
      " 'filename': 'sub-6445003_ses-NAPEN00_run-001_T1w.nii.gz',\n",
      " 'fwhm_avg': 3.680683333333333,\n",
      " 'fwhm_x': 3.75564,\n",
      " 'fwhm_y': 3.75121,\n",
      " 'fwhm_z': 3.5352,\n",
      " 'icvs_csf': 0.23896913950456913,\n",
      " 'icvs_gm': 0.41155280110393555,\n",
      " 'icvs_wm': 0.34947805939149534,\n",
      " 'inu_med': 0.7374693751335144,\n",
      " 'inu_range': 0.2513059496879577,\n",
      " 'qi_1': 5.195251898058409e-05,\n",
      " 'qi_2': 0.004795732602123701,\n",
      " 'rpve_csf': 26.88707975840483,\n",
      " 'rpve_gm': 15.121849315940365,\n",
      " 'rpve_wm': 20.11346722779336,\n",
      " 'size_x': 176,\n",
      " 'size_y': 240,\n",
      " 'size_z': 256,\n",
      " 'snr_csf': 1.833606415582332,\n",
      " 'snr_gm': 8.892356395367713,\n",
      " 'snr_total': 8.892254479555502,\n",
      " 'snr_wm': 15.95080062771646,\n",
      " 'snrd_csf': 6.761179797230499,\n",
      " 'snrd_gm': 21.856357429069693,\n",
      " 'snrd_total': 20.089224774479476,\n",
      " 'snrd_wm': 31.65013709713823,\n",
      " 'spacing_x': 1.0,\n",
      " 'spacing_y': 1.0,\n",
      " 'spacing_z': 1.0,\n",
      " 'summary_bg_k': 2392.801813776368,\n",
      " 'summary_bg_mad': 0.0,\n",
      " 'summary_bg_mean': 11.696939497924124,\n",
      " 'summary_bg_median': 0.0,\n",
      " 'summary_bg_n': 2576976.0,\n",
      " 'summary_bg_p05': 0.0,\n",
      " 'summary_bg_p95': 42.14285858720541,\n",
      " 'summary_bg_stdv': 20.69932336920306,\n",
      " 'summary_csf_k': 0.19496345923771852,\n",
      " 'summary_csf_mad': 119.13768235593801,\n",
      " 'summary_csf_mean': 223.96102497217007,\n",
      " 'summary_csf_median': 213.6224563010037,\n",
      " 'summary_csf_n': 37252.0,\n",
      " 'summary_csf_p05': 56.98979787155986,\n",
      " 'summary_csf_p95': 432.3469535931945,\n",
      " 'summary_csf_stdv': 116.50242233273609,\n",
      " 'summary_gm_k': -0.044088811459014554,\n",
      " 'summary_gm_mad': 77.3827613016664,\n",
      " 'summary_gm_mean': 690.2296573527844,\n",
      " 'summary_gm_median': 690.5612481571734,\n",
      " 'summary_gm_n': 14626.0,\n",
      " 'summary_gm_p05': 560.5229783942923,\n",
      " 'summary_gm_p95': 817.3979871980846,\n",
      " 'summary_gm_stdv': 77.65519168754628,\n",
      " 'summary_wm_k': 0.19359502479603874,\n",
      " 'summary_wm_mad': 61.346451041692525,\n",
      " 'summary_wm_mean': 1000.8657258196528,\n",
      " 'summary_wm_median': 1000.0000342726707,\n",
      " 'summary_wm_n': 150495.0,\n",
      " 'summary_wm_p05': 899.2857451066375,\n",
      " 'summary_wm_p95': 1105.6122827902436,\n",
      " 'summary_wm_stdv': 62.69257169197561,\n",
      " 'tpm_overlap_csf': 0.13900224894712718,\n",
      " 'tpm_overlap_gm': 0.4555361117334364,\n",
      " 'tpm_overlap_wm': 0.5223013703636057,\n",
      " 'wm2max': 0.3517146087174978}\n"
     ]
    }
   ],
   "source": [
    "mriqc_output_directory = \"./mriqc_output\"\n",
    "NeuroCI_results_file = \"Prevent-AD.json\"\n",
    "list_of_mriqc = []\n",
    "\n",
    "for filename in os.listdir(mriqc_output_directory):\n",
    "    file_path = os.path.join(mriqc_output_directory, filename)\n",
    "    with open(filepath, \"r+\") as file:\n",
    "        data = json.load(file)\n",
    "        del data['bids_meta']\n",
    "        del data['provenance']\n",
    "        data['filename'] = filename[:-5] + \".nii.gz\" #Note that I added this so we know which result is of which scan.\n",
    "        data['discrepancy'] = find_discrepancy(NeuroCI_results_file, data['filename']) #This is also added by me!\n",
    "        list_of_mriqc.append(data)\n",
    "        \n",
    "pprint.pprint(list_of_mriqc[5]) #each element of the list is the dictionary of a single MRIQC result file."
   ]
  }
 ],
 "metadata": {
  "kernelspec": {
   "display_name": "Python 3",
   "language": "python",
   "name": "python3"
  },
  "language_info": {
   "codemirror_mode": {
    "name": "ipython",
    "version": 3
   },
   "file_extension": ".py",
   "mimetype": "text/x-python",
   "name": "python",
   "nbconvert_exporter": "python",
   "pygments_lexer": "ipython3",
   "version": "3.6.9"
  }
 },
 "nbformat": 4,
 "nbformat_minor": 4
}
