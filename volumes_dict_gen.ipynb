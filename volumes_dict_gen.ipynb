{
 "cells": [
  {
   "cell_type": "code",
   "execution_count": 1,
   "metadata": {},
   "outputs": [],
   "source": [
    "import json\n",
    "import os\n",
    "import pprint\n",
    "import numpy as np\n",
    "import matplotlib.pyplot as plt"
   ]
  },
  {
   "cell_type": "code",
   "execution_count": 25,
   "metadata": {},
   "outputs": [
    {
     "name": "stdout",
     "output_type": "stream",
     "text": [
      "{'sub-1404211_ses-NAPFU03_run-001_T1w.nii.gz': {'ASHS': 'TyYyYLLeeER',\n",
      "                                                'FSL': 4491.0,\n",
      "                                                'FreeSurfer': 4330.6},\n",
      " 'sub-2332918_ses-NAPFU48_run-001_T1w.nii.gz': {'ASHS': 'TyYyYLLeeER',\n",
      "                                                'FSL': 8609.0,\n",
      "                                                'FreeSurfer': 3381.3},\n",
      " 'sub-2345993_ses-PREFU12_run-001_T1w.nii.gz': {'ASHS': 'TyYyYLLeeER',\n",
      "                                                'FSL': 141.0,\n",
      "                                                'FreeSurfer': 4949.8},\n",
      " 'sub-2738676_ses-PREEN00_run-001_T1w.nii.gz': {'ASHS': 'TyYyYLLeeER',\n",
      "                                                'FSL': 473.0,\n",
      "                                                'FreeSurfer': 4825.3},\n",
      " 'sub-3230637_ses-PREFU36_run-001_T1w.nii.gz': {'ASHS': 'TyYyYLLeeER',\n",
      "                                                'FSL': 7701.0,\n",
      "                                                'FreeSurfer': 3568.3},\n",
      " 'sub-3737955_ses-NAPBL00_run-001_T1w.nii.gz': {'ASHS': 'TyYyYLLeeER',\n",
      "                                                'FSL': 3503.0,\n",
      "                                                'FreeSurfer': 3956.3},\n",
      " 'sub-4169074_ses-NAPFU03_run-001_T1w.nii.gz': {'ASHS': 'TyYyYLLeeER',\n",
      "                                                'FSL': 8556.0,\n",
      "                                                'FreeSurfer': 4217.3},\n",
      " 'sub-4806541_ses-NAPFU36_run-001_T1w.nii.gz': {'ASHS': 'TyYyYLLeeER',\n",
      "                                                'FSL': 366.0,\n",
      "                                                'FreeSurfer': 4785.2},\n",
      " 'sub-5184448_ses-NAPFU24_run-001_T1w.nii.gz': {'ASHS': 'TyYyYLLeeER',\n",
      "                                                'FSL': 3511.0,\n",
      "                                                'FreeSurfer': 3610.7},\n",
      " 'sub-6445003_ses-NAPEN00_run-001_T1w.nii.gz': {'ASHS': 'TyYyYLLeeER',\n",
      "                                                'FSL': 3025.0,\n",
      "                                                'FreeSurfer': 3419.1},\n",
      " 'sub-6852929_ses-NAPFU12_run-001_T1w.nii.gz': {'ASHS': 'TyYyYLLeeER',\n",
      "                                                'FSL': 160.0,\n",
      "                                                'FreeSurfer': 4302.1},\n",
      " 'sub-7492583_ses-NAPBL00_run-001_T1w.nii.gz': {'ASHS': 'TyYyYLLeeER',\n",
      "                                                'FSL': 3625.0,\n",
      "                                                'FreeSurfer': 3567.0},\n",
      " 'sub-9125564_ses-PREEN00_run-001_T1w.nii.gz': {'ASHS': 'TyYyYLLeeER',\n",
      "                                                'FSL': 3683.0,\n",
      "                                                'FreeSurfer': 4214.4},\n",
      " 'sub-9769696_ses-NAPEN00_run-001_T1w.nii.gz': {'ASHS': 'TyYyYLLeeER',\n",
      "                                                'FSL': 8541.0,\n",
      "                                                'FreeSurfer': 4082.6},\n",
      " 'sub-9939055_ses-NAPFU12_run-001_T1w.nii.gz': {'ASHS': 'TyYyYLLeeER',\n",
      "                                                'FSL': 3724.0,\n",
      "                                                'FreeSurfer': 3725.8}}\n"
     ]
    }
   ],
   "source": [
    "mriqc_output_directory = \"./mriqc_output\"\n",
    "NeuroCI_results_file = \"Prevent-AD.json\"\n",
    "list_of_mriqc = []\n",
    "NeuroCI_results_file = \"Prevent-AD.json\"\n",
    "\n",
    "def template_filler(FSL, FreeSurfer, ASHS):\n",
    "    return {'FSL' : FSL, 'FreeSurfer' : FreeSurfer, 'ASHS' : ASHS}\n",
    "\n",
    "new_dict = {}\n",
    "with open(NeuroCI_results_file, \"r+\") as file:\n",
    "    data = json.load(file)\n",
    "    for filename in os.listdir(mriqc_output_directory):\n",
    "        filenamee = filename[:-5] + \".nii.gz\"\n",
    "        FSL = float(data[filenamee]['FSL']['Result']['result'])\n",
    "        FreeSurfer = float(data[filenamee]['FreeSurfer']['Result']['result'])\n",
    "        new_dict[filenamee] = template_filler(FSL, FreeSurfer, \"TyYyYLLeeER\")\n",
    "pprint.pprint(new_dict)\n",
    "\n",
    "with open('volumes.json', 'w') as f:\n",
    "    json.dump(new_dict, f, indent=4)"
   ]
  }
 ],
 "metadata": {
  "kernelspec": {
   "display_name": "Python 3",
   "language": "python",
   "name": "python3"
  },
  "language_info": {
   "codemirror_mode": {
    "name": "ipython",
    "version": 3
   },
   "file_extension": ".py",
   "mimetype": "text/x-python",
   "name": "python",
   "nbconvert_exporter": "python",
   "pygments_lexer": "ipython3",
   "version": "3.6.9"
  }
 },
 "nbformat": 4,
 "nbformat_minor": 4
}
