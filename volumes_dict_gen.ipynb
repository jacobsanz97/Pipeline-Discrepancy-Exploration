{
 "cells": [
  {
   "cell_type": "code",
   "execution_count": 1,
   "metadata": {},
   "outputs": [],
   "source": [
    "import json\n",
    "import os\n",
    "import pprint\n",
    "import numpy as np\n",
    "import matplotlib.pyplot as plt"
   ]
  },
  {
   "cell_type": "code",
   "execution_count": 15,
   "metadata": {},
   "outputs": [
    {
     "name": "stdout",
     "output_type": "stream",
     "text": [
      "{'sub-1404211_ses-NAPFU03_run-001_T1w.nii.gz': {'ASHS': 'TyyYyyLlleeEr',\n",
      "                                                'FSL': 7701.0,\n",
      "                                                'FreeSurfer': 3568.3},\n",
      " 'sub-2332918_ses-NAPFU48_run-001_T1w.nii.gz': {'ASHS': 'TyyYyyLlleeEr',\n",
      "                                                'FSL': 7701.0,\n",
      "                                                'FreeSurfer': 3568.3},\n",
      " 'sub-2345993_ses-PREFU12_run-001_T1w.nii.gz': {'ASHS': 'TyyYyyLlleeEr',\n",
      "                                                'FSL': 7701.0,\n",
      "                                                'FreeSurfer': 3568.3},\n",
      " 'sub-2738676_ses-PREEN00_run-001_T1w.nii.gz': {'ASHS': 'TyyYyyLlleeEr',\n",
      "                                                'FSL': 7701.0,\n",
      "                                                'FreeSurfer': 3568.3},\n",
      " 'sub-3230637_ses-PREFU36_run-001_T1w.nii.gz': {'ASHS': 'TyyYyyLlleeEr',\n",
      "                                                'FSL': 7701.0,\n",
      "                                                'FreeSurfer': 3568.3},\n",
      " 'sub-3737955_ses-NAPBL00_run-001_T1w.nii.gz': {'ASHS': 'TyyYyyLlleeEr',\n",
      "                                                'FSL': 7701.0,\n",
      "                                                'FreeSurfer': 3568.3},\n",
      " 'sub-4169074_ses-NAPFU03_run-001_T1w.nii.gz': {'ASHS': 'TyyYyyLlleeEr',\n",
      "                                                'FSL': 7701.0,\n",
      "                                                'FreeSurfer': 3568.3},\n",
      " 'sub-4806541_ses-NAPFU36_run-001_T1w.nii.gz': {'ASHS': 'TyyYyyLlleeEr',\n",
      "                                                'FSL': 7701.0,\n",
      "                                                'FreeSurfer': 3568.3},\n",
      " 'sub-5184448_ses-NAPFU24_run-001_T1w.nii.gz': {'ASHS': 'TyyYyyLlleeEr',\n",
      "                                                'FSL': 7701.0,\n",
      "                                                'FreeSurfer': 3568.3},\n",
      " 'sub-6445003_ses-NAPEN00_run-001_T1w.nii.gz': {'ASHS': 'TyyYyyLlleeEr',\n",
      "                                                'FSL': 7701.0,\n",
      "                                                'FreeSurfer': 3568.3},\n",
      " 'sub-6852929_ses-NAPFU12_run-001_T1w.nii.gz': {'ASHS': 'TyyYyyLlleeEr',\n",
      "                                                'FSL': 7701.0,\n",
      "                                                'FreeSurfer': 3568.3},\n",
      " 'sub-7492583_ses-NAPBL00_run-001_T1w.nii.gz': {'ASHS': 'TyyYyyLlleeEr',\n",
      "                                                'FSL': 7701.0,\n",
      "                                                'FreeSurfer': 3568.3},\n",
      " 'sub-9125564_ses-PREEN00_run-001_T1w.nii.gz': {'ASHS': 'TyyYyyLlleeEr',\n",
      "                                                'FSL': 7701.0,\n",
      "                                                'FreeSurfer': 3568.3},\n",
      " 'sub-9769696_ses-NAPEN00_run-001_T1w.nii.gz': {'ASHS': 'TyyYyyLlleeEr',\n",
      "                                                'FSL': 7701.0,\n",
      "                                                'FreeSurfer': 3568.3},\n",
      " 'sub-9939055_ses-NAPFU12_run-001_T1w.nii.gz': {'ASHS': 'TyyYyyLlleeEr',\n",
      "                                                'FSL': 7701.0,\n",
      "                                                'FreeSurfer': 3568.3}}\n"
     ]
    }
   ],
   "source": [
    "mriqc_output_directory = \"./mriqc_output\"\n",
    "NeuroCI_results_file = \"Prevent-AD.json\"\n",
    "list_of_mriqc = []\n",
    "NeuroCI_results_file = \"Prevent-AD.json\"\n",
    "template = {'FSL' : 'val', 'FreeSurfer' : 'val', 'ASHS' : 'val'}\n",
    "\n",
    "new_dict = {}\n",
    "with open(NeuroCI_results_file, \"r+\") as file:\n",
    "    data = json.load(file)\n",
    "    for filename in os.listdir(mriqc_output_directory):\n",
    "        filename = filename[:-5] + \".nii.gz\"\n",
    "        FSL = float(data[filename]['FSL']['Result']['result'])\n",
    "        FreeSurfer = float(data[filename]['FreeSurfer']['Result']['result'])\n",
    "        template['FSL'] = FSL\n",
    "        template['FreeSurfer'] = FreeSurfer\n",
    "        template['ASHS'] = 'TyyYyyLlleeEr'\n",
    "        new_dict[filename] = template\n",
    "pprint.pprint(new_dict)\n",
    "\n",
    "with open('volumes.json', 'w') as f:\n",
    "    json.dump(new_dict, f)"
   ]
  }
 ],
 "metadata": {
  "kernelspec": {
   "display_name": "Python 3",
   "language": "python",
   "name": "python3"
  },
  "language_info": {
   "codemirror_mode": {
    "name": "ipython",
    "version": 3
   },
   "file_extension": ".py",
   "mimetype": "text/x-python",
   "name": "python",
   "nbconvert_exporter": "python",
   "pygments_lexer": "ipython3",
   "version": "3.6.9"
  }
 },
 "nbformat": 4,
 "nbformat_minor": 4
}
